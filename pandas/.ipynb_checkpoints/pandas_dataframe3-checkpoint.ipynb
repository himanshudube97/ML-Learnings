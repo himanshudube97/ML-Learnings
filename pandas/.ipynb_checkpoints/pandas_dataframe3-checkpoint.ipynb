{
 "cells": [
  {
   "cell_type": "markdown",
   "id": "9f736788-67d0-43bf-b4db-6d6f43360b09",
   "metadata": {},
   "source": [
    "## MultiIndex and index hierarchy"
   ]
  },
  {
   "cell_type": "code",
   "execution_count": 21,
   "id": "0608eaa0-e0af-4506-8de8-7353a0601043",
   "metadata": {},
   "outputs": [],
   "source": [
    "import numpy as np\n",
    "import pandas as pd\n",
    "from numpy.random import randn"
   ]
  },
  {
   "cell_type": "code",
   "execution_count": 28,
   "id": "0ca402ca-e1d3-4965-9997-f1815ebe6e4b",
   "metadata": {},
   "outputs": [],
   "source": [
    "#Index Levels\n",
    "outside = [\"G1\", 'G1', 'G1', 'G2', 'G2', 'G2']\n",
    "inside = [1,2,3,1,2,3]\n",
    "hier_index = list(zip(outside, inside))\n",
    "hier_index = pd.MultiIndex.from_tuples(hier_index)  ## might not use this function much"
   ]
  },
  {
   "cell_type": "code",
   "execution_count": 29,
   "id": "3f2f89f1-ab40-4e54-aec6-553b9dabf4c2",
   "metadata": {},
   "outputs": [
    {
     "data": {
      "text/plain": [
       "MultiIndex([('G1', 1),\n",
       "            ('G1', 2),\n",
       "            ('G1', 3),\n",
       "            ('G2', 1),\n",
       "            ('G2', 2),\n",
       "            ('G2', 3)],\n",
       "           )"
      ]
     },
     "execution_count": 29,
     "metadata": {},
     "output_type": "execute_result"
    }
   ],
   "source": [
    "hier_index"
   ]
  },
  {
   "cell_type": "code",
   "execution_count": 27,
   "id": "d34fdb1f-7bb4-4d13-b078-90f068061e03",
   "metadata": {},
   "outputs": [
    {
     "data": {
      "text/html": [
       "<div>\n",
       "<style scoped>\n",
       "    .dataframe tbody tr th:only-of-type {\n",
       "        vertical-align: middle;\n",
       "    }\n",
       "\n",
       "    .dataframe tbody tr th {\n",
       "        vertical-align: top;\n",
       "    }\n",
       "\n",
       "    .dataframe thead th {\n",
       "        text-align: right;\n",
       "    }\n",
       "</style>\n",
       "<table border=\"1\" class=\"dataframe\">\n",
       "  <thead>\n",
       "    <tr style=\"text-align: right;\">\n",
       "      <th></th>\n",
       "      <th></th>\n",
       "      <th>A</th>\n",
       "      <th>B</th>\n",
       "    </tr>\n",
       "  </thead>\n",
       "  <tbody>\n",
       "    <tr>\n",
       "      <th rowspan=\"3\" valign=\"top\">G1</th>\n",
       "      <th>1</th>\n",
       "      <td>1.115467</td>\n",
       "      <td>0.089350</td>\n",
       "    </tr>\n",
       "    <tr>\n",
       "      <th>2</th>\n",
       "      <td>0.572785</td>\n",
       "      <td>-0.970779</td>\n",
       "    </tr>\n",
       "    <tr>\n",
       "      <th>3</th>\n",
       "      <td>-0.275508</td>\n",
       "      <td>0.380401</td>\n",
       "    </tr>\n",
       "    <tr>\n",
       "      <th rowspan=\"3\" valign=\"top\">G2</th>\n",
       "      <th>1</th>\n",
       "      <td>-0.410581</td>\n",
       "      <td>0.120897</td>\n",
       "    </tr>\n",
       "    <tr>\n",
       "      <th>2</th>\n",
       "      <td>-0.942752</td>\n",
       "      <td>-0.101398</td>\n",
       "    </tr>\n",
       "    <tr>\n",
       "      <th>3</th>\n",
       "      <td>0.262504</td>\n",
       "      <td>-0.743597</td>\n",
       "    </tr>\n",
       "  </tbody>\n",
       "</table>\n",
       "</div>"
      ],
      "text/plain": [
       "             A         B\n",
       "G1 1  1.115467  0.089350\n",
       "   2  0.572785 -0.970779\n",
       "   3 -0.275508  0.380401\n",
       "G2 1 -0.410581  0.120897\n",
       "   2 -0.942752 -0.101398\n",
       "   3  0.262504 -0.743597"
      ]
     },
     "execution_count": 27,
     "metadata": {},
     "output_type": "execute_result"
    }
   ],
   "source": [
    "## creating dataframe from the lists above.\n",
    "df  = pd.DataFrame(data =randn(6,2),index= hier_index, columns=[\"A\", \"B\"])\n",
    "df"
   ]
  },
  {
   "cell_type": "code",
   "execution_count": 32,
   "id": "e32a1e6f-5ce0-4959-974f-d8822420d108",
   "metadata": {},
   "outputs": [
    {
     "data": {
      "text/plain": [
       "A    1.115467\n",
       "B    0.089350\n",
       "Name: 1, dtype: float64"
      ]
     },
     "execution_count": 32,
     "metadata": {},
     "output_type": "execute_result"
    }
   ],
   "source": [
    "df.loc[\"G1\"].loc[1]  ## this basically returns a series out of a dataframe. the series is of row/index 1"
   ]
  },
  {
   "cell_type": "code",
   "execution_count": 33,
   "id": "e317744a-d157-472c-9b6f-fe0735524c1d",
   "metadata": {},
   "outputs": [],
   "source": [
    "## We can name the index too "
   ]
  },
  {
   "cell_type": "code",
   "execution_count": 34,
   "id": "8bf187ed-9e01-4cb3-84ae-28fcb0a7e0ea",
   "metadata": {},
   "outputs": [
    {
     "data": {
      "text/plain": [
       "FrozenList([None, None])"
      ]
     },
     "execution_count": 34,
     "metadata": {},
     "output_type": "execute_result"
    }
   ],
   "source": [
    "df.index.names"
   ]
  },
  {
   "cell_type": "code",
   "execution_count": 35,
   "id": "729d261c-be68-4a7e-aec2-553c3d9ae092",
   "metadata": {},
   "outputs": [],
   "source": [
    "df.index.names = [\"Groups\", \"Num\"] ## this names the multilevel index too"
   ]
  },
  {
   "cell_type": "code",
   "execution_count": 36,
   "id": "c76e3c5b-3441-4600-8827-4c557ad47e78",
   "metadata": {},
   "outputs": [
    {
     "data": {
      "text/html": [
       "<div>\n",
       "<style scoped>\n",
       "    .dataframe tbody tr th:only-of-type {\n",
       "        vertical-align: middle;\n",
       "    }\n",
       "\n",
       "    .dataframe tbody tr th {\n",
       "        vertical-align: top;\n",
       "    }\n",
       "\n",
       "    .dataframe thead th {\n",
       "        text-align: right;\n",
       "    }\n",
       "</style>\n",
       "<table border=\"1\" class=\"dataframe\">\n",
       "  <thead>\n",
       "    <tr style=\"text-align: right;\">\n",
       "      <th></th>\n",
       "      <th></th>\n",
       "      <th>A</th>\n",
       "      <th>B</th>\n",
       "    </tr>\n",
       "    <tr>\n",
       "      <th>Groups</th>\n",
       "      <th>Num</th>\n",
       "      <th></th>\n",
       "      <th></th>\n",
       "    </tr>\n",
       "  </thead>\n",
       "  <tbody>\n",
       "    <tr>\n",
       "      <th rowspan=\"3\" valign=\"top\">G1</th>\n",
       "      <th>1</th>\n",
       "      <td>1.115467</td>\n",
       "      <td>0.089350</td>\n",
       "    </tr>\n",
       "    <tr>\n",
       "      <th>2</th>\n",
       "      <td>0.572785</td>\n",
       "      <td>-0.970779</td>\n",
       "    </tr>\n",
       "    <tr>\n",
       "      <th>3</th>\n",
       "      <td>-0.275508</td>\n",
       "      <td>0.380401</td>\n",
       "    </tr>\n",
       "    <tr>\n",
       "      <th rowspan=\"3\" valign=\"top\">G2</th>\n",
       "      <th>1</th>\n",
       "      <td>-0.410581</td>\n",
       "      <td>0.120897</td>\n",
       "    </tr>\n",
       "    <tr>\n",
       "      <th>2</th>\n",
       "      <td>-0.942752</td>\n",
       "      <td>-0.101398</td>\n",
       "    </tr>\n",
       "    <tr>\n",
       "      <th>3</th>\n",
       "      <td>0.262504</td>\n",
       "      <td>-0.743597</td>\n",
       "    </tr>\n",
       "  </tbody>\n",
       "</table>\n",
       "</div>"
      ],
      "text/plain": [
       "                   A         B\n",
       "Groups Num                    \n",
       "G1     1    1.115467  0.089350\n",
       "       2    0.572785 -0.970779\n",
       "       3   -0.275508  0.380401\n",
       "G2     1   -0.410581  0.120897\n",
       "       2   -0.942752 -0.101398\n",
       "       3    0.262504 -0.743597"
      ]
     },
     "execution_count": 36,
     "metadata": {},
     "output_type": "execute_result"
    }
   ],
   "source": [
    "df"
   ]
  },
  {
   "cell_type": "code",
   "execution_count": 39,
   "id": "590d47d4-23e7-41e3-9a2a-e4b5b4ea636e",
   "metadata": {},
   "outputs": [
    {
     "data": {
      "text/plain": [
       "-0.10139788638852427"
      ]
     },
     "execution_count": 39,
     "metadata": {},
     "output_type": "execute_result"
    }
   ],
   "source": [
    "df.loc[\"G2\"].loc[2][\"B\"]  ## how to access a value from the datagrid."
   ]
  },
  {
   "cell_type": "code",
   "execution_count": 46,
   "id": "9120d4fb-a213-4c36-8698-5193d4fab0c7",
   "metadata": {},
   "outputs": [
    {
     "data": {
      "text/plain": [
       "A    0.572785\n",
       "B   -0.970779\n",
       "Name: 2, dtype: float64"
      ]
     },
     "execution_count": 46,
     "metadata": {},
     "output_type": "execute_result"
    }
   ],
   "source": [
    "### Another function to use to go inside the multilevel index \n",
    "## Using the cross section function \n",
    "df.xs(\"G1\").xs(2)"
   ]
  },
  {
   "cell_type": "code",
   "execution_count": 48,
   "id": "ee91ddc5-8272-468f-961a-6cb49efe2693",
   "metadata": {},
   "outputs": [
    {
     "data": {
      "text/html": [
       "<div>\n",
       "<style scoped>\n",
       "    .dataframe tbody tr th:only-of-type {\n",
       "        vertical-align: middle;\n",
       "    }\n",
       "\n",
       "    .dataframe tbody tr th {\n",
       "        vertical-align: top;\n",
       "    }\n",
       "\n",
       "    .dataframe thead th {\n",
       "        text-align: right;\n",
       "    }\n",
       "</style>\n",
       "<table border=\"1\" class=\"dataframe\">\n",
       "  <thead>\n",
       "    <tr style=\"text-align: right;\">\n",
       "      <th></th>\n",
       "      <th>A</th>\n",
       "      <th>B</th>\n",
       "    </tr>\n",
       "    <tr>\n",
       "      <th>Groups</th>\n",
       "      <th></th>\n",
       "      <th></th>\n",
       "    </tr>\n",
       "  </thead>\n",
       "  <tbody>\n",
       "    <tr>\n",
       "      <th>G1</th>\n",
       "      <td>1.115467</td>\n",
       "      <td>0.089350</td>\n",
       "    </tr>\n",
       "    <tr>\n",
       "      <th>G2</th>\n",
       "      <td>-0.410581</td>\n",
       "      <td>0.120897</td>\n",
       "    </tr>\n",
       "  </tbody>\n",
       "</table>\n",
       "</div>"
      ],
      "text/plain": [
       "               A         B\n",
       "Groups                    \n",
       "G1      1.115467  0.089350\n",
       "G2     -0.410581  0.120897"
      ]
     },
     "execution_count": 48,
     "metadata": {},
     "output_type": "execute_result"
    }
   ],
   "source": [
    "## main use of cross section, suppose we want to go inside and select all the 1 index \n",
    "## ADVANCED TOPIC THODA\n",
    "df.xs(1, level=\"Num\")"
   ]
  },
  {
   "cell_type": "code",
   "execution_count": null,
   "id": "0ffed766-a4b1-4734-b5f6-b05bb7586b8b",
   "metadata": {},
   "outputs": [],
   "source": []
  }
 ],
 "metadata": {
  "kernelspec": {
   "display_name": "Python 3 (ipykernel)",
   "language": "python",
   "name": "python3"
  },
  "language_info": {
   "codemirror_mode": {
    "name": "ipython",
    "version": 3
   },
   "file_extension": ".py",
   "mimetype": "text/x-python",
   "name": "python",
   "nbconvert_exporter": "python",
   "pygments_lexer": "ipython3",
   "version": "3.12.7"
  }
 },
 "nbformat": 4,
 "nbformat_minor": 5
}
