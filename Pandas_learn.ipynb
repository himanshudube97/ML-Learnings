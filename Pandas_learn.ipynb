{
 "cells": [
  {
   "cell_type": "markdown",
   "id": "263e40cb-49ad-494e-b79e-3d1d9cada4d9",
   "metadata": {},
   "source": [
    "# Series in pandas\n"
   ]
  },
  {
   "cell_type": "code",
   "execution_count": null,
   "id": "c456da83-5db1-4965-8e5a-a6e48d9fd95d",
   "metadata": {},
   "outputs": [],
   "source": []
  },
  {
   "cell_type": "code",
   "execution_count": 24,
   "id": "66bc0bef-6535-4a36-8d6d-39d2f88ce156",
   "metadata": {},
   "outputs": [
    {
     "data": {
      "text/plain": [
       "a    1\n",
       "b    2\n",
       "c    3\n",
       "dtype: int64"
      ]
     },
     "execution_count": 24,
     "metadata": {},
     "output_type": "execute_result"
    }
   ],
   "source": [
    "import numpy as np\n",
    "import pandas as pd\n",
    "\n",
    "python_list = [1,2,3]\n",
    "numpy_array = np.array(python_list)\n",
    "label = [\"a\",\"b\", \"c\"]\n",
    "python_dictionary = {\"a\": 10, \"himanshu\": 12, \"dube\": 40}\n",
    "pd.Series(data = python_list, index=label)\n"
   ]
  },
  {
   "cell_type": "code",
   "execution_count": 20,
   "id": "09536cd1-83e0-4519-98d4-3a8224e9ba23",
   "metadata": {},
   "outputs": [
    {
     "data": {
      "text/plain": [
       "0    1\n",
       "1    2\n",
       "2    3\n",
       "dtype: int64"
      ]
     },
     "execution_count": 20,
     "metadata": {},
     "output_type": "execute_result"
    }
   ],
   "source": [
    "pd.Series(python_list)"
   ]
  },
  {
   "cell_type": "code",
   "execution_count": 23,
   "id": "31f7a48a-654e-438e-af9c-150d79aaf86f",
   "metadata": {},
   "outputs": [
    {
     "data": {
      "text/plain": [
       "0    1\n",
       "1    2\n",
       "2    3\n",
       "dtype: int64"
      ]
     },
     "execution_count": 23,
     "metadata": {},
     "output_type": "execute_result"
    }
   ],
   "source": [
    "## Another quick way to create a seires from numpy array\n",
    "\n",
    "pd.Series(numpy_array)"
   ]
  },
  {
   "cell_type": "code",
   "execution_count": 25,
   "id": "86d91239-a361-42c4-b2ec-0ea85785ab1d",
   "metadata": {},
   "outputs": [
    {
     "data": {
      "text/plain": [
       "a           10\n",
       "himanshu    12\n",
       "dube        40\n",
       "dtype: int64"
      ]
     },
     "execution_count": 25,
     "metadata": {},
     "output_type": "execute_result"
    }
   ],
   "source": [
    "## Using dictionary creating a series\n",
    "pd.Series(python_dictionary)"
   ]
  },
  {
   "cell_type": "markdown",
   "id": "30e75e06-912a-497a-83e8-3af6daaa5f58",
   "metadata": {},
   "source": [
    "##### Series can hold any type of data objects, be it array, list, dictionary or any kind of data"
   ]
  },
  {
   "cell_type": "code",
   "execution_count": 27,
   "id": "89dd893d-a036-4f64-9b0f-c46578f44b47",
   "metadata": {},
   "outputs": [
    {
     "data": {
      "text/plain": [
       "0    a\n",
       "1    b\n",
       "2    c\n",
       "dtype: object"
      ]
     },
     "execution_count": 27,
     "metadata": {},
     "output_type": "execute_result"
    }
   ],
   "source": [
    "pd.Series(label)"
   ]
  },
  {
   "cell_type": "code",
   "execution_count": 28,
   "id": "bc008b18-fa95-4316-81f1-dbd6b5b8f88d",
   "metadata": {},
   "outputs": [
    {
     "data": {
      "text/plain": [
       "0      <built-in function sum>\n",
       "1    <built-in function print>\n",
       "2      <built-in function len>\n",
       "dtype: object"
      ]
     },
     "execution_count": 28,
     "metadata": {},
     "output_type": "execute_result"
    }
   ],
   "source": [
    "### holding function refrences too\n",
    "pd.Series(data=[sum, print, len])\n"
   ]
  },
  {
   "cell_type": "code",
   "execution_count": 45,
   "id": "be67129f-5671-46a4-8397-7723d8a59e6b",
   "metadata": {},
   "outputs": [],
   "source": [
    "##ser1 = pd.Series(data = [1,2,3,4,],index = [\"usa\", \"india\",\"australia\", \"usa\", ]) ##Can hold duplicate keys. strange"
   ]
  },
  {
   "cell_type": "code",
   "execution_count": null,
   "id": "a139f119-aa2d-485f-bd6e-bcd971765997",
   "metadata": {},
   "outputs": [],
   "source": [
    "ser1 = pd.Series(data = [1,2,3,4,],index = [\"usa\", \"india\",\"australia\", \"japan\", ])"
   ]
  },
  {
   "cell_type": "code",
   "execution_count": 39,
   "id": "6ba350cf-9b67-4701-a4f4-8afeb6193a57",
   "metadata": {},
   "outputs": [
    {
     "data": {
      "text/plain": [
       "usa          1\n",
       "india        2\n",
       "australia    3\n",
       "usa          4\n",
       "dtype: int64"
      ]
     },
     "execution_count": 39,
     "metadata": {},
     "output_type": "execute_result"
    }
   ],
   "source": [
    "ser1"
   ]
  },
  {
   "cell_type": "code",
   "execution_count": 44,
   "id": "36adb848-c22a-4644-aec9-3c66b3ce9fb0",
   "metadata": {},
   "outputs": [
    {
     "data": {
      "text/plain": [
       "usa    1\n",
       "usa    4\n",
       "dtype: int64"
      ]
     },
     "execution_count": 44,
     "metadata": {},
     "output_type": "execute_result"
    }
   ],
   "source": [
    "ser1[\"usa\"]"
   ]
  },
  {
   "cell_type": "code",
   "execution_count": 46,
   "id": "64f898ba-6d22-4458-980d-5f696d95c85f",
   "metadata": {},
   "outputs": [
    {
     "data": {
      "text/plain": [
       "usa      1\n",
       "india    2\n",
       "italy    5\n",
       "china    7\n",
       "dtype: int64"
      ]
     },
     "execution_count": 46,
     "metadata": {},
     "output_type": "execute_result"
    }
   ],
   "source": [
    "ser2 = pd.Series(data = [1,2,5,7] , index= [\"usa\", \"india\", \"italy\", \"china\"])\n",
    "ser2\n"
   ]
  },
  {
   "cell_type": "code",
   "execution_count": 47,
   "id": "64bf31ef-18d9-41b5-bb71-37898298f092",
   "metadata": {},
   "outputs": [
    {
     "data": {
      "text/plain": [
       "australia    NaN\n",
       "china        NaN\n",
       "india        4.0\n",
       "italy        NaN\n",
       "usa          2.0\n",
       "usa          5.0\n",
       "dtype: float64"
      ]
     },
     "execution_count": 47,
     "metadata": {},
     "output_type": "execute_result"
    }
   ],
   "source": [
    "##Adding up both : Always converts sum to floats.\n",
    "ser1 + ser2"
   ]
  },
  {
   "cell_type": "code",
   "execution_count": null,
   "id": "46fa32fc-57b9-4281-ad0f-2b8b44afba2b",
   "metadata": {},
   "outputs": [],
   "source": []
  }
 ],
 "metadata": {
  "kernelspec": {
   "display_name": "Python 3 (ipykernel)",
   "language": "python",
   "name": "python3"
  },
  "language_info": {
   "codemirror_mode": {
    "name": "ipython",
    "version": 3
   },
   "file_extension": ".py",
   "mimetype": "text/x-python",
   "name": "python",
   "nbconvert_exporter": "python",
   "pygments_lexer": "ipython3",
   "version": "3.12.7"
  }
 },
 "nbformat": 4,
 "nbformat_minor": 5
}
