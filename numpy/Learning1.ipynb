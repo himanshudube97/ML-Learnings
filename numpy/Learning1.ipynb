{
 "cells": [
  {
   "cell_type": "code",
   "execution_count": 1,
   "id": "7e1c65fe-fef8-4806-acaf-7eb6dcabb43f",
   "metadata": {},
   "outputs": [
    {
     "name": "stdout",
     "output_type": "stream",
     "text": [
      "This is a code shell and i am running it\n"
     ]
    }
   ],
   "source": [
    "print(\"This is a code shell and i am running it\")"
   ]
  },
  {
   "cell_type": "code",
   "execution_count": 7,
   "id": "38b5a593-984b-4db5-a29a-687e45229fe0",
   "metadata": {},
   "outputs": [
    {
     "data": {
      "text/plain": [
       "3"
      ]
     },
     "execution_count": 7,
     "metadata": {},
     "output_type": "execute_result"
    }
   ],
   "source": [
    "1+2\n"
   ]
  },
  {
   "cell_type": "code",
   "execution_count": 8,
   "id": "d4dcac93-b516-496d-a2ec-846822212ad9",
   "metadata": {},
   "outputs": [
    {
     "name": "stdout",
     "output_type": "stream",
     "text": [
      "False\n"
     ]
    }
   ],
   "source": [
    "print(1==3)"
   ]
  },
  {
   "cell_type": "code",
   "execution_count": 3,
   "id": "1333806e-137d-44bf-b287-ef5c0b08f13d",
   "metadata": {},
   "outputs": [
    {
     "name": "stdout",
     "output_type": "stream",
     "text": [
      "6\n"
     ]
    }
   ],
   "source": [
    "print(4+2)"
   ]
  },
  {
   "cell_type": "code",
   "execution_count": 4,
   "id": "151717c4-9154-436b-aef6-e041ec80a7bd",
   "metadata": {},
   "outputs": [
    {
     "name": "stdout",
     "output_type": "stream",
     "text": [
      "shit+enter runs it\n"
     ]
    }
   ],
   "source": [
    "print(\"shit+enter runs it\")"
   ]
  },
  {
   "cell_type": "code",
   "execution_count": 6,
   "id": "304e3e4d-825e-4a0e-ab1f-bbc0231d1f2d",
   "metadata": {},
   "outputs": [
    {
     "name": "stdout",
     "output_type": "stream",
     "text": [
      "alt+enter insrts\n"
     ]
    }
   ],
   "source": [
    "print(\"alt+enter insrts\")\n",
    "      "
   ]
  },
  {
   "cell_type": "code",
   "execution_count": null,
   "id": "9b5798d0-a10f-43fe-9be1-22d367fe84fc",
   "metadata": {},
   "outputs": [],
   "source": []
  }
 ],
 "metadata": {
  "kernelspec": {
   "display_name": "Python 3 (ipykernel)",
   "language": "python",
   "name": "python3"
  },
  "language_info": {
   "codemirror_mode": {
    "name": "ipython",
    "version": 3
   },
   "file_extension": ".py",
   "mimetype": "text/x-python",
   "name": "python",
   "nbconvert_exporter": "python",
   "pygments_lexer": "ipython3",
   "version": "3.12.7"
  }
 },
 "nbformat": 4,
 "nbformat_minor": 5
}
