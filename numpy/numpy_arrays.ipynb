{
 "cells": [
  {
   "cell_type": "markdown",
   "id": "f68d663d-c0c7-4a90-acff-ee00f2ef6a57",
   "metadata": {},
   "source": [
    "Numpy arrays"
   ]
  },
  {
   "cell_type": "markdown",
   "id": "865b40a5-1bc5-4dfc-baa1-b173d97001eb",
   "metadata": {},
   "source": [
    "python lists and arrays are different. \n"
   ]
  },
  {
   "cell_type": "code",
   "execution_count": 1,
   "id": "1765c015-a9e6-4b45-9360-37c18fe5272e",
   "metadata": {},
   "outputs": [
    {
     "name": "stdout",
     "output_type": "stream",
     "text": [
      "[1, 2, 3]\n"
     ]
    }
   ],
   "source": [
    "my_list = [1, 2, 3]\n",
    "print(my_list)\n"
   ]
  },
  {
   "cell_type": "code",
   "execution_count": 2,
   "id": "cf39ec6e-a3c1-46de-af13-55f3015e7478",
   "metadata": {},
   "outputs": [
    {
     "name": "stdout",
     "output_type": "stream",
     "text": [
      "[1 2 3]\n"
     ]
    }
   ],
   "source": [
    "import numpy as np\n",
    "convertedArrayfromlist = np.array(my_list)\n",
    "print(convertedArrayfromlist)\n"
   ]
  },
  {
   "cell_type": "code",
   "execution_count": 3,
   "id": "8a7404fe-ed82-427a-8832-d140a82db730",
   "metadata": {},
   "outputs": [
    {
     "name": "stdout",
     "output_type": "stream",
     "text": [
      "[1 2 3]\n"
     ]
    }
   ],
   "source": [
    "print(convertedArrayfromlist)"
   ]
  },
  {
   "cell_type": "code",
   "execution_count": 4,
   "id": "b397cb73-8f3c-4166-a87e-2d08795176a2",
   "metadata": {},
   "outputs": [
    {
     "name": "stdout",
     "output_type": "stream",
     "text": [
      "[[1 2 3]\n",
      " [4 5 6]]\n"
     ]
    }
   ],
   "source": [
    "my_2d_list = [[1,2, 3], [4,5,6]]\n",
    "convertedArray = np.array(my_2d_list)\n",
    "print(convertedArray)"
   ]
  },
  {
   "cell_type": "markdown",
   "id": "8b3d519b-cae2-4fcf-b7b3-eaabb56ada6c",
   "metadata": {},
   "source": [
    "# **Creating Arrays** #\n"
   ]
  },
  {
   "cell_type": "markdown",
   "id": "442b4c09-a2f3-4733-9883-4167a587c8da",
   "metadata": {},
   "source": [
    "## Easy way \n",
    "\n"
   ]
  },
  {
   "cell_type": "code",
   "execution_count": 8,
   "id": "d1ca4475-8f77-449c-beca-66d466c31edb",
   "metadata": {},
   "outputs": [
    {
     "name": "stdout",
     "output_type": "stream",
     "text": [
      "[0 1 2 3 4 5 6 7 8 9]\n"
     ]
    }
   ],
   "source": [
    "created_array = np.arange(0, 10)\n",
    "print(created_array)"
   ]
  },
  {
   "cell_type": "markdown",
   "id": "ea6f0374-3af8-44f0-8c9c-1e424d3cda69",
   "metadata": {},
   "source": [
    "Adding stepsize too\n"
   ]
  },
  {
   "cell_type": "code",
   "execution_count": 10,
   "id": "23e74b1a-7fff-4e8f-8896-d62d5964c709",
   "metadata": {},
   "outputs": [
    {
     "name": "stdout",
     "output_type": "stream",
     "text": [
      "[ 0  2  4  6  8 10 12 14 16 18]\n"
     ]
    }
   ],
   "source": [
    "add_step_size  = np.arange(0, 20, 2)\n",
    "print(add_step_size)"
   ]
  },
  {
   "cell_type": "code",
   "execution_count": 11,
   "id": "0b2fc507-b839-49e9-8933-6878b6a8119a",
   "metadata": {},
   "outputs": [
    {
     "data": {
      "text/plain": [
       "array([0., 0., 0.])"
      ]
     },
     "execution_count": 11,
     "metadata": {},
     "output_type": "execute_result"
    }
   ],
   "source": [
    "np.zeros(3)"
   ]
  },
  {
   "cell_type": "code",
   "execution_count": 18,
   "id": "b363fca6-b544-401a-b0b7-bbbb404acf93",
   "metadata": {},
   "outputs": [],
   "source": [
    "## To create 2d matrix use a tuple to define it ##\n"
   ]
  },
  {
   "cell_type": "code",
   "execution_count": 15,
   "id": "8c7b807d-f3fc-40dc-acf0-02afa7850b44",
   "metadata": {},
   "outputs": [
    {
     "data": {
      "text/plain": [
       "array([[0., 0., 0., 0., 0.],\n",
       "       [0., 0., 0., 0., 0.],\n",
       "       [0., 0., 0., 0., 0.],\n",
       "       [0., 0., 0., 0., 0.],\n",
       "       [0., 0., 0., 0., 0.]])"
      ]
     },
     "execution_count": 15,
     "metadata": {},
     "output_type": "execute_result"
    }
   ],
   "source": [
    "np.zeros((5,5))"
   ]
  },
  {
   "cell_type": "code",
   "execution_count": 16,
   "id": "7e17dcd6-7912-4a32-af6c-af02368ec309",
   "metadata": {},
   "outputs": [
    {
     "data": {
      "text/plain": [
       "array([1., 1., 1., 1., 1., 1.])"
      ]
     },
     "execution_count": 16,
     "metadata": {},
     "output_type": "execute_result"
    }
   ],
   "source": [
    "np.ones(6)"
   ]
  },
  {
   "cell_type": "code",
   "execution_count": 17,
   "id": "1395c4d4-4f6d-488b-8bd6-57f7088f0a07",
   "metadata": {},
   "outputs": [
    {
     "data": {
      "text/plain": [
       "array([[1., 1., 1., 1., 1., 1., 1., 1.],\n",
       "       [1., 1., 1., 1., 1., 1., 1., 1.],\n",
       "       [1., 1., 1., 1., 1., 1., 1., 1.],\n",
       "       [1., 1., 1., 1., 1., 1., 1., 1.],\n",
       "       [1., 1., 1., 1., 1., 1., 1., 1.]])"
      ]
     },
     "execution_count": 17,
     "metadata": {},
     "output_type": "execute_result"
    }
   ],
   "source": [
    "np.ones((5,8))"
   ]
  },
  {
   "cell_type": "markdown",
   "id": "0877cfc1-c27a-4c56-a61a-bfade4fe7368",
   "metadata": {},
   "source": [
    "### linspace divides the points bw two given points"
   ]
  },
  {
   "cell_type": "code",
   "execution_count": 21,
   "id": "f4048355-aceb-4e88-80db-570fbd8fba30",
   "metadata": {},
   "outputs": [
    {
     "data": {
      "text/plain": [
       "array([ 0. ,  2.5,  5. ,  7.5, 10. ])"
      ]
     },
     "execution_count": 21,
     "metadata": {},
     "output_type": "execute_result"
    }
   ],
   "source": [
    "np.linspace(0, 10, 5)\n"
   ]
  },
  {
   "cell_type": "code",
   "execution_count": 26,
   "id": "a9faae36-4e15-41a9-89e1-913a41955f44",
   "metadata": {},
   "outputs": [
    {
     "data": {
      "text/plain": [
       "array([0.        , 0.02040816, 0.04081633, 0.06122449, 0.08163265,\n",
       "       0.10204082, 0.12244898, 0.14285714, 0.16326531, 0.18367347,\n",
       "       0.20408163, 0.2244898 , 0.24489796, 0.26530612, 0.28571429,\n",
       "       0.30612245, 0.32653061, 0.34693878, 0.36734694, 0.3877551 ,\n",
       "       0.40816327, 0.42857143, 0.44897959, 0.46938776, 0.48979592,\n",
       "       0.51020408, 0.53061224, 0.55102041, 0.57142857, 0.59183673,\n",
       "       0.6122449 , 0.63265306, 0.65306122, 0.67346939, 0.69387755,\n",
       "       0.71428571, 0.73469388, 0.75510204, 0.7755102 , 0.79591837,\n",
       "       0.81632653, 0.83673469, 0.85714286, 0.87755102, 0.89795918,\n",
       "       0.91836735, 0.93877551, 0.95918367, 0.97959184, 1.        ])"
      ]
     },
     "execution_count": 26,
     "metadata": {},
     "output_type": "execute_result"
    }
   ],
   "source": [
    "np.linspace(0,1 , 50)"
   ]
  },
  {
   "cell_type": "markdown",
   "id": "834689db-2443-47b5-9a85-188244c76e26",
   "metadata": {},
   "source": [
    "### Creating Identity matrix"
   ]
  },
  {
   "cell_type": "code",
   "execution_count": 31,
   "id": "6cd1e19a-55d4-476a-89e9-c07f9092129d",
   "metadata": {},
   "outputs": [
    {
     "data": {
      "text/plain": [
       "array([[1., 0., 0., 0., 0.],\n",
       "       [0., 1., 0., 0., 0.],\n",
       "       [0., 0., 1., 0., 0.],\n",
       "       [0., 0., 0., 1., 0.],\n",
       "       [0., 0., 0., 0., 1.]])"
      ]
     },
     "execution_count": 31,
     "metadata": {},
     "output_type": "execute_result"
    }
   ],
   "source": [
    "np.eye(5)"
   ]
  },
  {
   "cell_type": "markdown",
   "id": "f7a1c9ce-08e6-4484-bba3-d8c950fc845b",
   "metadata": {},
   "source": [
    "## 1. np.random.rand\n",
    "### Description: Generates random numbers from a uniform distribution in the range [0, 1).\n",
    "### Range: Values are always between 0 (inclusive) and 1 (exclusive).\n",
    "### Use Case: When you need random numbers evenly distributed within a specific range."
   ]
  },
  {
   "cell_type": "code",
   "execution_count": 27,
   "id": "6df63af5-711f-4f98-b353-fb4f39daf5b1",
   "metadata": {},
   "outputs": [
    {
     "data": {
      "text/plain": [
       "array([0.65412421, 0.47802256, 0.15216513, 0.43276941, 0.46512497])"
      ]
     },
     "execution_count": 27,
     "metadata": {},
     "output_type": "execute_result"
    }
   ],
   "source": [
    "np.random.rand(5)"
   ]
  },
  {
   "cell_type": "code",
   "execution_count": 32,
   "id": "891a7db2-de0f-49b3-a84c-9bd6761f682c",
   "metadata": {},
   "outputs": [
    {
     "data": {
      "text/plain": [
       "array([[0.0746328 , 0.66444652, 0.41266295],\n",
       "       [0.67997763, 0.59635678, 0.39502351],\n",
       "       [0.89426837, 0.53941477, 0.62296513],\n",
       "       [0.59313774, 0.63416663, 0.26263795],\n",
       "       [0.14587643, 0.91550947, 0.94565097]])"
      ]
     },
     "execution_count": 32,
     "metadata": {},
     "output_type": "execute_result"
    }
   ],
   "source": [
    "np.random.rand(5,3)"
   ]
  },
  {
   "cell_type": "markdown",
   "id": "77f13c67-a951-4a0e-a166-920e73680b54",
   "metadata": {},
   "source": [
    "## 2. np.random.randn\n",
    "### Description: Generates random numbers from a standard normal distribution (Gaussian distribution) with:\n",
    "### Mean (μ) = 0\n",
    "### Standard deviation (σ) = 1\n",
    "### Range: Theoretically, values can range from -∞ to +∞, but most values will be within -3σ to +3σ (about 99.7% of values fall in this range).\n",
    "### Use Case: When you need random numbers with a bell-curve (normal distribution) for statistical or machine-learning tasks.\n"
   ]
  },
  {
   "cell_type": "code",
   "execution_count": 34,
   "id": "60e98d9a-4b6e-4bb9-88f3-8e4c2dd9128d",
   "metadata": {},
   "outputs": [
    {
     "data": {
      "text/plain": [
       "array([ 0.01665982, -1.19348581,  0.49474378, -1.84519527])"
      ]
     },
     "execution_count": 34,
     "metadata": {},
     "output_type": "execute_result"
    }
   ],
   "source": [
    "np.random.randn(4)\n"
   ]
  },
  {
   "cell_type": "code",
   "execution_count": 35,
   "id": "c636cace-9310-4522-bbbb-099ea871dcb4",
   "metadata": {},
   "outputs": [
    {
     "data": {
      "text/plain": [
       "array([[-1.00910353, -1.26439116,  0.40564579, -0.45354295,  1.61926948],\n",
       "       [ 1.08205029,  0.49738896,  0.69945677,  0.24792002,  0.66226109],\n",
       "       [ 2.99836045, -0.8363237 ,  0.55635856,  0.89517739, -0.59225298],\n",
       "       [-0.05540861,  1.39154646, -1.55048819, -1.260096  ,  0.1687968 ],\n",
       "       [ 0.81057845,  0.26097195,  0.17822995,  1.44087731, -0.32069167]])"
      ]
     },
     "execution_count": 35,
     "metadata": {},
     "output_type": "execute_result"
    }
   ],
   "source": [
    "np.random.randn(5,5)"
   ]
  },
  {
   "cell_type": "code",
   "execution_count": 38,
   "id": "6a39ef7c-b858-4a0a-b718-518a9bd9da34",
   "metadata": {},
   "outputs": [
    {
     "data": {
      "text/plain": [
       "15"
      ]
     },
     "execution_count": 38,
     "metadata": {},
     "output_type": "execute_result"
    }
   ],
   "source": [
    "np.random.randint(3, 100)"
   ]
  },
  {
   "cell_type": "code",
   "execution_count": 39,
   "id": "86733c88-c075-4435-abf4-926355b4eae1",
   "metadata": {},
   "outputs": [
    {
     "data": {
      "text/plain": [
       "array([460, 491, 221, 422, 194, 382,  13, 427, 474, 470])"
      ]
     },
     "execution_count": 39,
     "metadata": {},
     "output_type": "execute_result"
    }
   ],
   "source": [
    "np.random.randint(4, 500, 10)"
   ]
  },
  {
   "cell_type": "markdown",
   "id": "689ca241-3694-428d-b272-221df76cd793",
   "metadata": {},
   "source": [
    "### Reshaping arrays and more methods"
   ]
  },
  {
   "cell_type": "code",
   "execution_count": 44,
   "id": "60a2b57d-4eb2-47c8-a393-a76441e6deaa",
   "metadata": {},
   "outputs": [
    {
     "name": "stdout",
     "output_type": "stream",
     "text": [
      "[379 422 402 382 489 380 389 210 493 349 363  64 327 166 274 357 418 474\n",
      "  22  40 419 494 107 473 478 316  29 274 193  52 362  54 442  22 450 251\n",
      " 278 109 465 300 215 195 317 103 379 134 191 215 350 256]\n"
     ]
    }
   ],
   "source": [
    "random_array  = np.random.randint(0,500, 50)\n",
    "print(random_array)\n",
    "                                 "
   ]
  },
  {
   "cell_type": "code",
   "execution_count": 46,
   "id": "8e52f7b0-3479-40d7-b082-9f883334c934",
   "metadata": {},
   "outputs": [
    {
     "data": {
      "text/plain": [
       "array([[379, 422, 402, 382, 489],\n",
       "       [380, 389, 210, 493, 349],\n",
       "       [363,  64, 327, 166, 274],\n",
       "       [357, 418, 474,  22,  40],\n",
       "       [419, 494, 107, 473, 478],\n",
       "       [316,  29, 274, 193,  52],\n",
       "       [362,  54, 442,  22, 450],\n",
       "       [251, 278, 109, 465, 300],\n",
       "       [215, 195, 317, 103, 379],\n",
       "       [134, 191, 215, 350, 256]])"
      ]
     },
     "execution_count": 46,
     "metadata": {},
     "output_type": "execute_result"
    }
   ],
   "source": [
    "random_array.reshape(10,5)"
   ]
  },
  {
   "cell_type": "code",
   "execution_count": 47,
   "id": "e3465d8e-38ce-4471-9883-74b1f8bb5192",
   "metadata": {},
   "outputs": [
    {
     "data": {
      "text/plain": [
       "(50,)"
      ]
     },
     "execution_count": 47,
     "metadata": {},
     "output_type": "execute_result"
    }
   ],
   "source": [
    "random_array.shape\n"
   ]
  },
  {
   "cell_type": "code",
   "execution_count": 48,
   "id": "2a5695ec-7630-4bab-aaa6-5c6f597a0e1c",
   "metadata": {},
   "outputs": [
    {
     "data": {
      "text/plain": [
       "dtype('int64')"
      ]
     },
     "execution_count": 48,
     "metadata": {},
     "output_type": "execute_result"
    }
   ],
   "source": [
    "random_array.dtype\n"
   ]
  },
  {
   "cell_type": "code",
   "execution_count": 54,
   "id": "33a8c035-be25-4a6c-88fe-2c9a31ce23f0",
   "metadata": {},
   "outputs": [
    {
     "name": "stdout",
     "output_type": "stream",
     "text": [
      "[5 9 6 7]\n"
     ]
    }
   ],
   "source": [
    "type_array = np.random.randint(1,10, 4)\n",
    "print(type_array)"
   ]
  },
  {
   "cell_type": "code",
   "execution_count": 53,
   "id": "f901a690-1b2f-4912-a1c5-b8ec5bcf0eb6",
   "metadata": {},
   "outputs": [
    {
     "data": {
      "text/plain": [
       "dtype('int64')"
      ]
     },
     "execution_count": 53,
     "metadata": {},
     "output_type": "execute_result"
    }
   ],
   "source": [
    "type_array.dtype\n"
   ]
  },
  {
   "cell_type": "code",
   "execution_count": null,
   "id": "6d785382-f568-49b7-ba70-53d1769f8e43",
   "metadata": {},
   "outputs": [],
   "source": []
  }
 ],
 "metadata": {
  "kernelspec": {
   "display_name": "Python 3 (ipykernel)",
   "language": "python",
   "name": "python3"
  },
  "language_info": {
   "codemirror_mode": {
    "name": "ipython",
    "version": 3
   },
   "file_extension": ".py",
   "mimetype": "text/x-python",
   "name": "python",
   "nbconvert_exporter": "python",
   "pygments_lexer": "ipython3",
   "version": "3.12.7"
  }
 },
 "nbformat": 4,
 "nbformat_minor": 5
}
